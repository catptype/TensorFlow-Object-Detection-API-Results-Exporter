{
 "cells": [
  {
   "cell_type": "markdown",
   "metadata": {},
   "source": [
    "# TensorFlow Object Detection API Results Exporter"
   ]
  },
  {
   "cell_type": "markdown",
   "metadata": {},
   "source": [
    "## Import library modules"
   ]
  },
  {
   "cell_type": "code",
   "execution_count": 1,
   "metadata": {},
   "outputs": [],
   "source": [
    "import sys\n",
    "sys.dont_write_bytecode = True\n",
    "\n",
    "from module.ResultExporter import ResultExporter"
   ]
  },
  {
   "cell_type": "markdown",
   "metadata": {},
   "source": [
    "## Execute"
   ]
  },
  {
   "cell_type": "code",
   "execution_count": 2,
   "metadata": {},
   "outputs": [
    {
     "name": "stdout",
     "output_type": "stream",
     "text": [
      "Scanning for models... Found 1\n",
      "Loading model... Done! Took 9.81 seconds\n"
     ]
    }
   ],
   "source": [
    "exporter = ResultExporter()"
   ]
  },
  {
   "cell_type": "code",
   "execution_count": 3,
   "metadata": {},
   "outputs": [
    {
     "name": "stdout",
     "output_type": "stream",
     "text": [
      "Running inference for 868644562.png... exporting ROI... exporting XML... COMPLETE\n",
      "Running inference for 868644563.png... exporting ROI... exporting XML... COMPLETE\n",
      "Running inference for 868644566.png... exporting ROI... exporting XML... COMPLETE\n",
      "Running inference for 868644568.png... exporting ROI... exporting XML... COMPLETE\n",
      "Running inference for 868644569.png... exporting ROI... exporting XML... COMPLETE\n",
      "Running inference for 868644570.png... exporting ROI... exporting XML... COMPLETE\n",
      "Running inference for 868644572.png... exporting ROI... exporting XML... COMPLETE\n"
     ]
    }
   ],
   "source": [
    "exporter.export(threshold=0.8)"
   ]
  }
 ],
 "metadata": {
  "kernelspec": {
   "display_name": "tf2",
   "language": "python",
   "name": "python3"
  },
  "language_info": {
   "codemirror_mode": {
    "name": "ipython",
    "version": 3
   },
   "file_extension": ".py",
   "mimetype": "text/x-python",
   "name": "python",
   "nbconvert_exporter": "python",
   "pygments_lexer": "ipython3",
   "version": "3.8.12"
  },
  "orig_nbformat": 4
 },
 "nbformat": 4,
 "nbformat_minor": 2
}
